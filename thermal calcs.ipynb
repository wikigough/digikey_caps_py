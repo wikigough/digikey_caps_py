{
 "cells": [
  {
   "cell_type": "code",
   "execution_count": 1,
   "metadata": {},
   "outputs": [],
   "source": [
    "#-----\n",
    "# thermal calculations.\n",
    "# 'Current' in = 45W\n",
    "# Thermal resistance in degC/W = 'resistance'\n",
    "# ' voltage' = temperature\n",
    "# then work from bottom of the circuit (ambient) to calculate the final junction temperature."
   ]
  },
  {
   "cell_type": "code",
   "execution_count": 82,
   "metadata": {},
   "outputs": [],
   "source": [
    "res_num = 31\n",
    "via_num = 400\n",
    "R =(500/res_num)\n",
    "I = 95/R\n",
    "P = (I**2)*R\n",
    "\n",
    "thermal_current = P\n",
    "R_TKH = 3 #tkh\n",
    "R_\n",
    "R_TKH_PARALLEL = R_TKH/res_num\n",
    "#R_VIA = 50 #1mm hole, 1.6mm board thickness, 0.0254mm plating thickness\n",
    "R_VIA = 15.4 #1mm hole, 1mm board thickness, 0.0254mm plating thickness\n",
    "R_VIAS = R_VIA/via_num\n",
    "cond_silpad = 1.7 #W/mK\n",
    "t_silpad = 1e-3 #m\n",
    "a_silpad = (100e-3)**2\n",
    "R_SILPAD = t_silpad/(cond_silpad*a_silpad) # https://media.digikey.com/pdf/Data%20Sheets/T-Global%20Technology%20PDFs/L37-3_Series.pdf\n",
    "R_HSINK = 0.05 # https://uk.rs-online.com/web/p/heatsinks/9033141/\n",
    "\n",
    "T_ambient = 21\n",
    "\n"
   ]
  },
  {
   "cell_type": "code",
   "execution_count": 83,
   "metadata": {},
   "outputs": [
    {
     "data": {
      "text/plain": [
       "157.58488088235293"
      ]
     },
     "execution_count": 83,
     "metadata": {},
     "output_type": "execute_result"
    }
   ],
   "source": [
    "P*(R_HSINK + R_SILPAD + R_VIAS+(R_TKH_PARALLEL)) + T_ambient"
   ]
  },
  {
   "cell_type": "code",
   "execution_count": 84,
   "metadata": {},
   "outputs": [
    {
     "name": "stdout",
     "output_type": "stream",
     "text": [
      "0.05\n",
      "0.058823529411764705\n",
      "0.0385\n",
      "0.0967741935483871\n"
     ]
    }
   ],
   "source": [
    "print(R_HSINK)\n",
    "print(R_SILPAD)\n",
    "print(R_VIAS)\n",
    "print(R_TKH_PARALLEL)"
   ]
  },
  {
   "cell_type": "code",
   "execution_count": 81,
   "metadata": {},
   "outputs": [
    {
     "data": {
      "text/plain": [
       "55.0"
      ]
     },
     "execution_count": 81,
     "metadata": {},
     "output_type": "execute_result"
    }
   ],
   "source": [
    "0.1*550\n"
   ]
  },
  {
   "cell_type": "code",
   "execution_count": null,
   "metadata": {},
   "outputs": [],
   "source": []
  }
 ],
 "metadata": {
  "kernelspec": {
   "display_name": "Python 3",
   "language": "python",
   "name": "python3"
  },
  "language_info": {
   "codemirror_mode": {
    "name": "ipython",
    "version": 3
   },
   "file_extension": ".py",
   "mimetype": "text/x-python",
   "name": "python",
   "nbconvert_exporter": "python",
   "pygments_lexer": "ipython3",
   "version": "3.7.0"
  }
 },
 "nbformat": 4,
 "nbformat_minor": 2
}
