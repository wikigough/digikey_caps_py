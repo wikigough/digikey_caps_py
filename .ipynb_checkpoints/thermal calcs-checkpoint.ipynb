{
 "cells": [
  {
   "cell_type": "code",
   "execution_count": 1,
   "metadata": {},
   "outputs": [],
   "source": [
    "#-----\n",
    "# thermal calculations.\n",
    "# 'Current' in = 45W\n",
    "# Thermal resistance in degC/W = 'resistance'\n",
    "# ' voltage' = temperature\n",
    "# then work from bottom of the circuit (ambient) to calculate the final junction temperature."
   ]
  },
  {
   "cell_type": "code",
   "execution_count": null,
   "metadata": {},
   "outputs": [],
   "source": [
    "thermal_current = 45\n",
    "R_TKH = 3\n",
    "R_VIA = 3.1 #1mm hole, 1.6mm board thickness, 0.0254mm plating thickness"
   ]
  }
 ],
 "metadata": {
  "kernelspec": {
   "display_name": "Python 3",
   "language": "python",
   "name": "python3"
  },
  "language_info": {
   "codemirror_mode": {
    "name": "ipython",
    "version": 3
   },
   "file_extension": ".py",
   "mimetype": "text/x-python",
   "name": "python",
   "nbconvert_exporter": "python",
   "pygments_lexer": "ipython3",
   "version": "3.7.0"
  }
 },
 "nbformat": 4,
 "nbformat_minor": 2
}
